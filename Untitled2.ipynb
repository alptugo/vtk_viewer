{
 "cells": [
  {
   "cell_type": "code",
   "execution_count": 1,
   "id": "8311e089",
   "metadata": {},
   "outputs": [
    {
     "data": {
      "application/vnd.jupyter.widget-view+json": {
       "model_id": "73daf36f22b54560a6e21763ebf5b994",
       "version_major": 2,
       "version_minor": 0
      },
      "text/plain": [
       "ViewInteractiveWidget(height=768, layout=Layout(height='auto', width='100%'), width=1024)"
      ]
     },
     "metadata": {},
     "output_type": "display_data"
    }
   ],
   "source": [
    "import pyvista as pv\n",
    "\n",
    "\n",
    "pl=pv.Plotter(notebook=True,)\n",
    "\n",
    "target_dir=\"C:\\\\Users\\\\LENOVO\\\\Documents\\\\Is\\\\kod\\\\stl_comparison\\\\deneme\"\n",
    "\n",
    "mesh = pv.read(\"{0}\\\\my_mesh.vtk\".format(target_dir))\n",
    "\n",
    "distances = mesh.active_scalars\n",
    "\n",
    "\n",
    "# create dictionary of parameters to control scalar bar\n",
    "sargs = dict(interactive=True, title=\"Differences (mm)\")  # Simply make the bar interactive\n",
    "\n",
    "active_mesh=pl.add_mesh(mesh, scalar_bar_args=sargs, cmap=\"jet\", n_colors=256 )\n",
    "#print(pl.show(jupyter_backend='itkwidgets')\n",
    "#mesh.plot(notebook=True, scalar_bar_args=sargs, n_colors=256)\n",
    "pl.show()"
   ]
  },
  {
   "cell_type": "code",
   "execution_count": null,
   "id": "c938264e",
   "metadata": {},
   "outputs": [],
   "source": []
  }
 ],
 "metadata": {
  "kernelspec": {
   "display_name": "Python 3 (ipykernel)",
   "language": "python",
   "name": "python3"
  },
  "language_info": {
   "codemirror_mode": {
    "name": "ipython",
    "version": 3
   },
   "file_extension": ".py",
   "mimetype": "text/x-python",
   "name": "python",
   "nbconvert_exporter": "python",
   "pygments_lexer": "ipython3",
   "version": "3.9.7"
  }
 },
 "nbformat": 4,
 "nbformat_minor": 5
}
